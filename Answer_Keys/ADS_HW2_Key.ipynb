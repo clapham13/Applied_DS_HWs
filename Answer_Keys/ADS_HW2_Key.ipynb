{
 "cells": [
  {
   "cell_type": "markdown",
   "metadata": {},
   "source": [
    "# ADS Homework #2 - Answer Key\n",
    "Monday 2-5pm Session, Proffessor Tim Savage\n",
    "\n",
    "Please submit this assignment to the NYU Classes 'Assignments' section by 12:00pm on Monday, September 24, strictly labeling the assignments with the format **'ADS_HW2_(your net ID).ipynb'**. Be sure not to confuse Net ID (e.g. 'acs882') with N-number ('N166...'). This homework is here for you to better understand and practice the material; while you may discuss approaches to problems with your classmates (in fact, this is encouraged!), please ensure that all final code submitted is your own. You may reach out to the TA, Alex Shannon, at acs882@nyu.edu at anytime (he hangs out at CUSP a lot, so feel free to say hello). Additionally, Professor Savage will hold office hours at Silver Hall, in Room 410 on Mondays from 9am-12am."
   ]
  },
  {
   "cell_type": "markdown",
   "metadata": {},
   "source": [
    "### Problem 1 - PM 2.5 Concentration in Beijing (50 points)"
   ]
  },
  {
   "cell_type": "markdown",
   "metadata": {},
   "source": [
    "**What is a PM2.5?**<br>\n",
    "“Particulate matter” (PM) is the general term used for a mixture of solid particles and liquid droplets\n",
    "found in the air. The '2.5' specifies particles with aerodynamic diameters less than or equal to 2.5 microns (μm). This is very small - to put in in perspective, it would take about 30 of these, lined up next to each other, to cover the width of a human hair. They result from a variety of activities, including power plants, motor vehicles, airplanes, residential wood burning, forest fires, agricultural burning, volcanic eruptions (hopefully not something to worry about in NYC) and dust storms.<br>\n",
    "**Why is this important to cities?**<br>\n",
    "An extensive body of scientific evidence shows that short- or long-term exposures to fine particles\n",
    "can cause adverse cardiovascular effects, including heart attacks and strokes resulting in\n",
    "hospitalizations and, in some cases, premature death. A number of studies have also linked fine\n",
    "particle exposures to respiratory effects, including the exacerbation of asthma and other respiratory\n",
    "illnesses (short-term exposures) and the impairment of lung development (long-term exposures). In short, PM2.5 poses public health risks, and is something which cities should be knowledgeable about; predicting when PM2.5 concentration will be particularly high could allow the city to issue warnings or place restrictions on certain activities (e.g. driving, industrial activity, etc.).<br>\n",
    "**The Data**<br>\n",
    "We will be looking specifically at Beijing from 2010-2014, using a variety of weather-related variables. Although there exists a time component, and other data sources could be merged to look for additional factors (this could be a great final project - think traffic data, air-taffic data, industrial activity, etc), we will specifically focused on weather for the purposes of this assignment. Please load and take a look at the data below. "
   ]
  },
  {
   "cell_type": "code",
   "execution_count": 8,
   "metadata": {},
   "outputs": [
    {
     "data": {
      "text/html": [
       "<div>\n",
       "<style scoped>\n",
       "    .dataframe tbody tr th:only-of-type {\n",
       "        vertical-align: middle;\n",
       "    }\n",
       "\n",
       "    .dataframe tbody tr th {\n",
       "        vertical-align: top;\n",
       "    }\n",
       "\n",
       "    .dataframe thead th {\n",
       "        text-align: right;\n",
       "    }\n",
       "</style>\n",
       "<table border=\"1\" class=\"dataframe\">\n",
       "  <thead>\n",
       "    <tr style=\"text-align: right;\">\n",
       "      <th></th>\n",
       "      <th>No</th>\n",
       "      <th>year</th>\n",
       "      <th>month</th>\n",
       "      <th>day</th>\n",
       "      <th>hour</th>\n",
       "      <th>pm2.5</th>\n",
       "      <th>DEWP</th>\n",
       "      <th>TEMP</th>\n",
       "      <th>PRES</th>\n",
       "      <th>cbwd</th>\n",
       "      <th>Iws</th>\n",
       "      <th>Is</th>\n",
       "      <th>Ir</th>\n",
       "    </tr>\n",
       "  </thead>\n",
       "  <tbody>\n",
       "    <tr>\n",
       "      <th>0</th>\n",
       "      <td>1</td>\n",
       "      <td>2010</td>\n",
       "      <td>1</td>\n",
       "      <td>1</td>\n",
       "      <td>0</td>\n",
       "      <td>NaN</td>\n",
       "      <td>-21</td>\n",
       "      <td>-11.0</td>\n",
       "      <td>1021.0</td>\n",
       "      <td>NW</td>\n",
       "      <td>1.79</td>\n",
       "      <td>0</td>\n",
       "      <td>0</td>\n",
       "    </tr>\n",
       "    <tr>\n",
       "      <th>1</th>\n",
       "      <td>2</td>\n",
       "      <td>2010</td>\n",
       "      <td>1</td>\n",
       "      <td>1</td>\n",
       "      <td>1</td>\n",
       "      <td>NaN</td>\n",
       "      <td>-21</td>\n",
       "      <td>-12.0</td>\n",
       "      <td>1020.0</td>\n",
       "      <td>NW</td>\n",
       "      <td>4.92</td>\n",
       "      <td>0</td>\n",
       "      <td>0</td>\n",
       "    </tr>\n",
       "    <tr>\n",
       "      <th>2</th>\n",
       "      <td>3</td>\n",
       "      <td>2010</td>\n",
       "      <td>1</td>\n",
       "      <td>1</td>\n",
       "      <td>2</td>\n",
       "      <td>NaN</td>\n",
       "      <td>-21</td>\n",
       "      <td>-11.0</td>\n",
       "      <td>1019.0</td>\n",
       "      <td>NW</td>\n",
       "      <td>6.71</td>\n",
       "      <td>0</td>\n",
       "      <td>0</td>\n",
       "    </tr>\n",
       "  </tbody>\n",
       "</table>\n",
       "</div>"
      ],
      "text/plain": [
       "   No  year  month  day  hour  pm2.5  DEWP  TEMP    PRES cbwd   Iws  Is  Ir\n",
       "0   1  2010      1    1     0    NaN   -21 -11.0  1021.0   NW  1.79   0   0\n",
       "1   2  2010      1    1     1    NaN   -21 -12.0  1020.0   NW  4.92   0   0\n",
       "2   3  2010      1    1     2    NaN   -21 -11.0  1019.0   NW  6.71   0   0"
      ]
     },
     "execution_count": 8,
     "metadata": {},
     "output_type": "execute_result"
    }
   ],
   "source": [
    "# load libraries; read in data\n",
    "import numpy as np\n",
    "import matplotlib.pyplot as plt\n",
    "import pandas as pd\n",
    "import seaborn as sns\n",
    "import statsmodels as sm\n",
    "import statsmodels.formula.api as smf\n",
    "import statsmodels.api as sma\n",
    "%matplotlib inline\n",
    "\n",
    "beijing_pm = pd.read_csv('../data/Beijing_PM2.5.csv')\n",
    "beijing_pm.head(3)"
   ]
  },
  {
   "cell_type": "markdown",
   "metadata": {},
   "source": [
    "#### Description of Data\n",
    "\n",
    "The data can be found, along with descriptions, at the following source: http://archive.ics.uci.edu/ml/datasets/Beijing+PM2.5+Data\n",
    "\n",
    "**Attribute Information:**<br>\n",
    "**No:** row number <br>\n",
    "**year:** year of data in this row <br>\n",
    "**month:** month of data in this row <br>\n",
    "**day:** day of data in this row <br>\n",
    "**hour:** hour of data in this row <br>\n",
    "**pm2.5:** PM2.5 concentration (ug/m^3) <br>\n",
    "**DEWP:** Dew Point (â„ƒ) <br>\n",
    "**TEMP:** Temperature (â„ƒ) <br>\n",
    "**PRES:** Pressure (hPa) <br>\n",
    "**cbwd:** Combined wind direction <br>\n",
    "**Iws:** Cumulated wind speed (m/s) <br>\n",
    "**Is:** Cumulated hours of snow <br>\n",
    "**Ir:** Cumulated hours of rain <br>"
   ]
  },
  {
   "cell_type": "markdown",
   "metadata": {},
   "source": [
    "**1.1)** Data cleaning: As you can see, there are some *n/a* values in our dataframe that need to be removed. Do so, and while you're at it, remove any columns specifying date or time and the wind direction column, as we will not be using these in our analysis. Additionally, decimals should not be used in column names, as this can create problems further down the road - rename 'PM2.5' to simply 'PM25'. (The data are also messy in that the 'I' (i) in the last three columns is indistiguishable from a lower-case 'l' (L) in python's font. Please feel free to rename these to your choosing, however this is not required.) Show the first 5 rows of the cleaned dataset below, then print a descriptive table of the dataset (mean, stdev, etc). **(5 points)**"
   ]
  },
  {
   "cell_type": "code",
   "execution_count": 9,
   "metadata": {},
   "outputs": [
    {
     "data": {
      "text/html": [
       "<div>\n",
       "<style scoped>\n",
       "    .dataframe tbody tr th:only-of-type {\n",
       "        vertical-align: middle;\n",
       "    }\n",
       "\n",
       "    .dataframe tbody tr th {\n",
       "        vertical-align: top;\n",
       "    }\n",
       "\n",
       "    .dataframe thead th {\n",
       "        text-align: right;\n",
       "    }\n",
       "</style>\n",
       "<table border=\"1\" class=\"dataframe\">\n",
       "  <thead>\n",
       "    <tr style=\"text-align: right;\">\n",
       "      <th></th>\n",
       "      <th>pm25</th>\n",
       "      <th>DEWP</th>\n",
       "      <th>TEMP</th>\n",
       "      <th>PRES</th>\n",
       "      <th>Iws</th>\n",
       "      <th>Is</th>\n",
       "      <th>Ir</th>\n",
       "    </tr>\n",
       "  </thead>\n",
       "  <tbody>\n",
       "    <tr>\n",
       "      <th>24</th>\n",
       "      <td>129.0</td>\n",
       "      <td>-16</td>\n",
       "      <td>-4.0</td>\n",
       "      <td>1020.0</td>\n",
       "      <td>1.79</td>\n",
       "      <td>0</td>\n",
       "      <td>0</td>\n",
       "    </tr>\n",
       "    <tr>\n",
       "      <th>25</th>\n",
       "      <td>148.0</td>\n",
       "      <td>-15</td>\n",
       "      <td>-4.0</td>\n",
       "      <td>1020.0</td>\n",
       "      <td>2.68</td>\n",
       "      <td>0</td>\n",
       "      <td>0</td>\n",
       "    </tr>\n",
       "    <tr>\n",
       "      <th>26</th>\n",
       "      <td>159.0</td>\n",
       "      <td>-11</td>\n",
       "      <td>-5.0</td>\n",
       "      <td>1021.0</td>\n",
       "      <td>3.57</td>\n",
       "      <td>0</td>\n",
       "      <td>0</td>\n",
       "    </tr>\n",
       "    <tr>\n",
       "      <th>27</th>\n",
       "      <td>181.0</td>\n",
       "      <td>-7</td>\n",
       "      <td>-5.0</td>\n",
       "      <td>1022.0</td>\n",
       "      <td>5.36</td>\n",
       "      <td>1</td>\n",
       "      <td>0</td>\n",
       "    </tr>\n",
       "    <tr>\n",
       "      <th>28</th>\n",
       "      <td>138.0</td>\n",
       "      <td>-7</td>\n",
       "      <td>-5.0</td>\n",
       "      <td>1022.0</td>\n",
       "      <td>6.25</td>\n",
       "      <td>2</td>\n",
       "      <td>0</td>\n",
       "    </tr>\n",
       "  </tbody>\n",
       "</table>\n",
       "</div>"
      ],
      "text/plain": [
       "     pm25  DEWP  TEMP    PRES   Iws  Is  Ir\n",
       "24  129.0   -16  -4.0  1020.0  1.79   0   0\n",
       "25  148.0   -15  -4.0  1020.0  2.68   0   0\n",
       "26  159.0   -11  -5.0  1021.0  3.57   0   0\n",
       "27  181.0    -7  -5.0  1022.0  5.36   1   0\n",
       "28  138.0    -7  -5.0  1022.0  6.25   2   0"
      ]
     },
     "execution_count": 9,
     "metadata": {},
     "output_type": "execute_result"
    }
   ],
   "source": [
    "# cleaning done appropriately: 4pts (broken down as below)\n",
    "# print description: 1pt\n",
    "\n",
    "beijing_pm.dropna(inplace=True) # 1pt\n",
    "beijing_pm.drop(['No', 'year', 'month', 'day', 'hour', 'cbwd'], axis=1, inplace=True) #2pts\n",
    "beijing_pm.rename({'pm2.5':'pm25'}, axis=1, inplace=True)  #1pt\n",
    "beijing_pm.head()"
   ]
  },
  {
   "cell_type": "code",
   "execution_count": 10,
   "metadata": {},
   "outputs": [
    {
     "data": {
      "text/html": [
       "<div>\n",
       "<style scoped>\n",
       "    .dataframe tbody tr th:only-of-type {\n",
       "        vertical-align: middle;\n",
       "    }\n",
       "\n",
       "    .dataframe tbody tr th {\n",
       "        vertical-align: top;\n",
       "    }\n",
       "\n",
       "    .dataframe thead th {\n",
       "        text-align: right;\n",
       "    }\n",
       "</style>\n",
       "<table border=\"1\" class=\"dataframe\">\n",
       "  <thead>\n",
       "    <tr style=\"text-align: right;\">\n",
       "      <th></th>\n",
       "      <th>pm25</th>\n",
       "      <th>DEWP</th>\n",
       "      <th>TEMP</th>\n",
       "      <th>PRES</th>\n",
       "      <th>Iws</th>\n",
       "      <th>Is</th>\n",
       "      <th>Ir</th>\n",
       "    </tr>\n",
       "  </thead>\n",
       "  <tbody>\n",
       "    <tr>\n",
       "      <th>count</th>\n",
       "      <td>41757.000000</td>\n",
       "      <td>41757.000000</td>\n",
       "      <td>41757.000000</td>\n",
       "      <td>41757.000000</td>\n",
       "      <td>41757.000000</td>\n",
       "      <td>41757.000000</td>\n",
       "      <td>41757.000000</td>\n",
       "    </tr>\n",
       "    <tr>\n",
       "      <th>mean</th>\n",
       "      <td>98.613215</td>\n",
       "      <td>1.750174</td>\n",
       "      <td>12.401561</td>\n",
       "      <td>1016.442896</td>\n",
       "      <td>23.866747</td>\n",
       "      <td>0.055344</td>\n",
       "      <td>0.194866</td>\n",
       "    </tr>\n",
       "    <tr>\n",
       "      <th>std</th>\n",
       "      <td>92.050387</td>\n",
       "      <td>14.433658</td>\n",
       "      <td>12.175215</td>\n",
       "      <td>10.300733</td>\n",
       "      <td>49.617495</td>\n",
       "      <td>0.778875</td>\n",
       "      <td>1.418165</td>\n",
       "    </tr>\n",
       "    <tr>\n",
       "      <th>min</th>\n",
       "      <td>0.000000</td>\n",
       "      <td>-40.000000</td>\n",
       "      <td>-19.000000</td>\n",
       "      <td>991.000000</td>\n",
       "      <td>0.450000</td>\n",
       "      <td>0.000000</td>\n",
       "      <td>0.000000</td>\n",
       "    </tr>\n",
       "    <tr>\n",
       "      <th>25%</th>\n",
       "      <td>29.000000</td>\n",
       "      <td>-10.000000</td>\n",
       "      <td>2.000000</td>\n",
       "      <td>1008.000000</td>\n",
       "      <td>1.790000</td>\n",
       "      <td>0.000000</td>\n",
       "      <td>0.000000</td>\n",
       "    </tr>\n",
       "    <tr>\n",
       "      <th>50%</th>\n",
       "      <td>72.000000</td>\n",
       "      <td>2.000000</td>\n",
       "      <td>14.000000</td>\n",
       "      <td>1016.000000</td>\n",
       "      <td>5.370000</td>\n",
       "      <td>0.000000</td>\n",
       "      <td>0.000000</td>\n",
       "    </tr>\n",
       "    <tr>\n",
       "      <th>75%</th>\n",
       "      <td>137.000000</td>\n",
       "      <td>15.000000</td>\n",
       "      <td>23.000000</td>\n",
       "      <td>1025.000000</td>\n",
       "      <td>21.910000</td>\n",
       "      <td>0.000000</td>\n",
       "      <td>0.000000</td>\n",
       "    </tr>\n",
       "    <tr>\n",
       "      <th>max</th>\n",
       "      <td>994.000000</td>\n",
       "      <td>28.000000</td>\n",
       "      <td>42.000000</td>\n",
       "      <td>1046.000000</td>\n",
       "      <td>565.490000</td>\n",
       "      <td>27.000000</td>\n",
       "      <td>36.000000</td>\n",
       "    </tr>\n",
       "  </tbody>\n",
       "</table>\n",
       "</div>"
      ],
      "text/plain": [
       "               pm25          DEWP          TEMP          PRES           Iws  \\\n",
       "count  41757.000000  41757.000000  41757.000000  41757.000000  41757.000000   \n",
       "mean      98.613215      1.750174     12.401561   1016.442896     23.866747   \n",
       "std       92.050387     14.433658     12.175215     10.300733     49.617495   \n",
       "min        0.000000    -40.000000    -19.000000    991.000000      0.450000   \n",
       "25%       29.000000    -10.000000      2.000000   1008.000000      1.790000   \n",
       "50%       72.000000      2.000000     14.000000   1016.000000      5.370000   \n",
       "75%      137.000000     15.000000     23.000000   1025.000000     21.910000   \n",
       "max      994.000000     28.000000     42.000000   1046.000000    565.490000   \n",
       "\n",
       "                 Is            Ir  \n",
       "count  41757.000000  41757.000000  \n",
       "mean       0.055344      0.194866  \n",
       "std        0.778875      1.418165  \n",
       "min        0.000000      0.000000  \n",
       "25%        0.000000      0.000000  \n",
       "50%        0.000000      0.000000  \n",
       "75%        0.000000      0.000000  \n",
       "max       27.000000     36.000000  "
      ]
     },
     "execution_count": 10,
     "metadata": {},
     "output_type": "execute_result"
    }
   ],
   "source": [
    "beijing_pm.describe()"
   ]
  },
  {
   "cell_type": "markdown",
   "metadata": {},
   "source": [
    "**1.2)** Take an initial look at the correlations among the variables to get a better intuition for the data. Plot the correlations in a heatmap table using the Seaborn library with the 'seismic' colormap (this provides for clearer visualization, and lets important values \"jump out\" at you more immediately - it is also comes across as less-scary when showing to non-data scientists). Try to adjust the figure-size so that it is not too compressed. Please include a brief summary of your observations.  **(5 points)**"
   ]
  },
  {
   "cell_type": "code",
   "execution_count": 11,
   "metadata": {},
   "outputs": [
    {
     "data": {
      "text/plain": [
       "[]"
      ]
     },
     "execution_count": 11,
     "metadata": {},
     "output_type": "execute_result"
    },
    {
     "data": {
      "image/png": "[encoded data removed]",
      "text/plain": [
       "<Figure size 576x432 with 2 Axes>"
      ]
     },
     "metadata": {},
     "output_type": "display_data"
    }
   ],
   "source": [
    "# get the correlation: 2pts\n",
    "# plot the heatmap: 3pts (labels are great, but not required)\n",
    "\n",
    "pm_corr = beijing_pm.corr()\n",
    "fig = plt.figure(figsize=(8,6))\n",
    "sns.heatmap(pm_corr, cmap='seismic', linewidths=0.5, annot=True)\n",
    "plt.plot()"
   ]
  },
  {
   "cell_type": "markdown",
   "metadata": {},
   "source": [
    "**Summary:**"
   ]
  },
  {
   "cell_type": "markdown",
   "metadata": {},
   "source": [
    "**1.3)** Using the independant variable with the strongest correlation (note: 'strong' is defined by absolute value) to PM2.5 concentration, run a single variable regression. Print the results, and write a brief interpretation of the R-squared. **(10 points)**"
   ]
  },
  {
   "cell_type": "code",
   "execution_count": 12,
   "metadata": {},
   "outputs": [
    {
     "name": "stdout",
     "output_type": "stream",
     "text": [
      "                            OLS Regression Results                            \n",
      "==============================================================================\n",
      "Dep. Variable:                   pm25   R-squared:                       0.061\n",
      "Model:                            OLS   Adj. R-squared:                  0.061\n",
      "Method:                 Least Squares   F-statistic:                     2731.\n",
      "Date:                Fri, 19 Oct 2018   Prob (F-statistic):               0.00\n",
      "Time:                        13:07:45   Log-Likelihood:            -2.4677e+05\n",
      "No. Observations:               41757   AIC:                         4.935e+05\n",
      "Df Residuals:                   41755   BIC:                         4.936e+05\n",
      "Df Model:                           1                                         \n",
      "Covariance Type:            nonrobust                                         \n",
      "==============================================================================\n",
      "                 coef    std err          t      P>|t|      [0.025      0.975]\n",
      "------------------------------------------------------------------------------\n",
      "Intercept    109.5845      0.484    226.280      0.000     108.635     110.534\n",
      "Iws           -0.4597      0.009    -52.262      0.000      -0.477      -0.442\n",
      "==============================================================================\n",
      "Omnibus:                    15556.707   Durbin-Watson:                   0.081\n",
      "Prob(Omnibus):                  0.000   Jarque-Bera (JB):            66794.778\n",
      "Skew:                           1.810   Prob(JB):                         0.00\n",
      "Kurtosis:                       8.029   Cond. No.                         61.1\n",
      "==============================================================================\n",
      "\n",
      "Warnings:\n",
      "[1] Standard Errors assume that the covariance matrix of the errors is correctly specified.\n"
     ]
    }
   ],
   "source": [
    "# Regression run correctly: 5pts\n",
    "# interpretation: 5pts\n",
    "\n",
    "mod = smf.ols(formula='pm25 ~ Iws', data = beijing_pm).fit()\n",
    "print(mod.summary())"
   ]
  },
  {
   "cell_type": "markdown",
   "metadata": {},
   "source": [
    "**Summary:**"
   ]
  },
  {
   "cell_type": "markdown",
   "metadata": {},
   "source": [
    "**1.4)** Now fit the regression with all of the independant variables. How does the R_squared change? What does this mean? How might colinearity impact our model? **(12 points)**"
   ]
  },
  {
   "cell_type": "code",
   "execution_count": 13,
   "metadata": {},
   "outputs": [
    {
     "name": "stdout",
     "output_type": "stream",
     "text": [
      "                            OLS Regression Results                            \n",
      "==============================================================================\n",
      "Dep. Variable:                   pm25   R-squared:                       0.236\n",
      "Model:                            OLS   Adj. R-squared:                  0.236\n",
      "Method:                 Least Squares   F-statistic:                     2151.\n",
      "Date:                Fri, 19 Oct 2018   Prob (F-statistic):               0.00\n",
      "Time:                        13:07:48   Log-Likelihood:            -2.4247e+05\n",
      "No. Observations:               41757   AIC:                         4.849e+05\n",
      "Df Residuals:                   41750   BIC:                         4.850e+05\n",
      "Df Model:                           6                                         \n",
      "Covariance Type:            nonrobust                                         \n",
      "==============================================================================\n",
      "                 coef    std err          t      P>|t|      [0.025      0.975]\n",
      "------------------------------------------------------------------------------\n",
      "Intercept   1728.4313     72.990     23.680      0.000    1585.369    1871.493\n",
      "DEWP           4.2822      0.053     80.109      0.000       4.177       4.387\n",
      "TEMP          -6.0681      0.068    -88.764      0.000      -6.202      -5.934\n",
      "PRES          -1.5291      0.071    -21.431      0.000      -1.669      -1.389\n",
      "Iws           -0.2616      0.008    -31.015      0.000      -0.278      -0.245\n",
      "Is            -2.2669      0.510     -4.448      0.000      -3.266      -1.268\n",
      "Ir            -7.2063      0.282    -25.593      0.000      -7.758      -6.654\n",
      "==============================================================================\n",
      "Omnibus:                    14925.190   Durbin-Watson:                   0.109\n",
      "Prob(Omnibus):                  0.000   Jarque-Bera (JB):            72241.887\n",
      "Skew:                           1.678   Prob(JB):                         0.00\n",
      "Kurtosis:                       8.501   Cond. No.                     1.89e+05\n",
      "==============================================================================\n",
      "\n",
      "Warnings:\n",
      "[1] Standard Errors assume that the covariance matrix of the errors is correctly specified.\n",
      "[2] The condition number is large, 1.89e+05. This might indicate that there are\n",
      "strong multicollinearity or other numerical problems.\n"
     ]
    }
   ],
   "source": [
    "# regression: 5pts\n",
    "# discussion on R_squared: 4pts\n",
    "# discussion on colinearity: 3pts\n",
    "\n",
    "mod1 = smf.ols(formula='pm25 ~ DEWP + TEMP + PRES + Iws + Is + Ir', data = beijing_pm).fit()\n",
    "print(mod1.summary())"
   ]
  },
  {
   "cell_type": "markdown",
   "metadata": {},
   "source": [
    "**Summary:**"
   ]
  },
  {
   "cell_type": "markdown",
   "metadata": {},
   "source": [
    "**1.5)** Run another regression on the data, this time removing the \"DEWP\" and \"PRES\" independant variables. What happens to the coefficients for the remaining variables? Why might this be the case? (Hint: look at your correlation table above) **(12 points)**"
   ]
  },
  {
   "cell_type": "code",
   "execution_count": 14,
   "metadata": {},
   "outputs": [
    {
     "name": "stdout",
     "output_type": "stream",
     "text": [
      "                            OLS Regression Results                            \n",
      "==============================================================================\n",
      "Dep. Variable:                   pm25   R-squared:                       0.080\n",
      "Model:                            OLS   Adj. R-squared:                  0.080\n",
      "Method:                 Least Squares   F-statistic:                     913.4\n",
      "Date:                Fri, 19 Oct 2018   Prob (F-statistic):               0.00\n",
      "Time:                        13:07:49   Log-Likelihood:            -2.4634e+05\n",
      "No. Observations:               41757   AIC:                         4.927e+05\n",
      "Df Residuals:                   41752   BIC:                         4.927e+05\n",
      "Df Model:                           4                                         \n",
      "Covariance Type:            nonrobust                                         \n",
      "==============================================================================\n",
      "                 coef    std err          t      P>|t|      [0.025      0.975]\n",
      "------------------------------------------------------------------------------\n",
      "Intercept    122.8806      0.681    180.543      0.000     121.547     124.215\n",
      "TEMP          -0.9601      0.036    -26.610      0.000      -1.031      -0.889\n",
      "Iws           -0.4963      0.009    -56.358      0.000      -0.514      -0.479\n",
      "Is             1.5151      0.557      2.719      0.007       0.423       2.607\n",
      "Ir            -3.0767      0.305    -10.088      0.000      -3.675      -2.479\n",
      "==============================================================================\n",
      "Omnibus:                    14334.505   Durbin-Watson:                   0.084\n",
      "Prob(Omnibus):                  0.000   Jarque-Bera (JB):            55969.005\n",
      "Skew:                           1.688   Prob(JB):                         0.00\n",
      "Kurtosis:                       7.557   Cond. No.                         88.0\n",
      "==============================================================================\n",
      "\n",
      "Warnings:\n",
      "[1] Standard Errors assume that the covariance matrix of the errors is correctly specified.\n"
     ]
    }
   ],
   "source": [
    "# regression: 5pts\n",
    "# discussion: 7pts (feel free to give partial credit here - key point is that TEMP is highly correlated with the dropped values)\n",
    "\n",
    "mod2 = smf.ols(formula='pm25 ~ TEMP + Iws + Is + Ir', data = beijing_pm).fit()\n",
    "print(mod2.summary())"
   ]
  },
  {
   "cell_type": "markdown",
   "metadata": {},
   "source": [
    "**Summary:**"
   ]
  },
  {
   "cell_type": "markdown",
   "metadata": {},
   "source": [
    "**1.6)** Calculate (either in python or by hand) the impact of a one standard deviation increase in *temperature* and a one standard deviation increase in *cumulative wind speed* for the models in **1.4** & **1.5**. **(6 points)**"
   ]
  },
  {
   "cell_type": "code",
   "execution_count": 25,
   "metadata": {},
   "outputs": [
    {
     "name": "stdout",
     "output_type": "stream",
     "text": [
      "Temp model 1: -73.8804366989551\n",
      "Temp model 2: -11.689757802286637\n",
      "Wind model 1: -12.981994015608239\n",
      "Wind model 2: -12.981994015608239\n"
     ]
    }
   ],
   "source": [
    "# correct approach: 2pts (if they do it by hand... tough to tell - I guess answers are key then)\n",
    "# correct response: 1pt each\n",
    "\n",
    "temp_mod1 = mod1.params['TEMP'] * beijing_pm.TEMP.std()\n",
    "temp_mod2 = mod2.params['TEMP'] * beijing_pm.TEMP.std()\n",
    "\n",
    "iws_mod1 = mod1.params['Iws'] * beijing_pm.Iws.std()\n",
    "iws_mod2 = mod2.params['Iws'] * beijing_pm.Iws.std()\n",
    "\n",
    "print('Temp model 1:', temp_mod1)\n",
    "print('Temp model 2:', temp_mod2)\n",
    "print('Wind model 1:', iws_mod1)\n",
    "print('Wind model 2:', iws_mod1)"
   ]
  },
  {
   "cell_type": "markdown",
   "metadata": {},
   "source": [
    "Answers:"
   ]
  },
  {
   "cell_type": "markdown",
   "metadata": {},
   "source": [
    "### Problem 2 - Polynomial Regression (30 points)"
   ]
  },
  {
   "cell_type": "code",
   "execution_count": 26,
   "metadata": {},
   "outputs": [
    {
     "data": {
      "text/html": [
       "<div>\n",
       "<style scoped>\n",
       "    .dataframe tbody tr th:only-of-type {\n",
       "        vertical-align: middle;\n",
       "    }\n",
       "\n",
       "    .dataframe tbody tr th {\n",
       "        vertical-align: top;\n",
       "    }\n",
       "\n",
       "    .dataframe thead th {\n",
       "        text-align: right;\n",
       "    }\n",
       "</style>\n",
       "<table border=\"1\" class=\"dataframe\">\n",
       "  <thead>\n",
       "    <tr style=\"text-align: right;\">\n",
       "      <th></th>\n",
       "      <th>y</th>\n",
       "      <th>x1</th>\n",
       "    </tr>\n",
       "  </thead>\n",
       "  <tbody>\n",
       "    <tr>\n",
       "      <th>0</th>\n",
       "      <td>2.613388</td>\n",
       "      <td>-0.50</td>\n",
       "    </tr>\n",
       "    <tr>\n",
       "      <th>1</th>\n",
       "      <td>2.170351</td>\n",
       "      <td>-0.32</td>\n",
       "    </tr>\n",
       "    <tr>\n",
       "      <th>2</th>\n",
       "      <td>0.049546</td>\n",
       "      <td>-0.14</td>\n",
       "    </tr>\n",
       "    <tr>\n",
       "      <th>3</th>\n",
       "      <td>1.158258</td>\n",
       "      <td>0.04</td>\n",
       "    </tr>\n",
       "    <tr>\n",
       "      <th>4</th>\n",
       "      <td>1.397567</td>\n",
       "      <td>0.22</td>\n",
       "    </tr>\n",
       "  </tbody>\n",
       "</table>\n",
       "</div>"
      ],
      "text/plain": [
       "          y    x1\n",
       "0  2.613388 -0.50\n",
       "1  2.170351 -0.32\n",
       "2  0.049546 -0.14\n",
       "3  1.158258  0.04\n",
       "4  1.397567  0.22"
      ]
     },
     "execution_count": 26,
     "metadata": {},
     "output_type": "execute_result"
    }
   ],
   "source": [
    "# let's create some artificial data\n",
    "y  = [2.61338821976, 2.17035124741, 0.0495462311938, 1.15825768821, 1.39756687454, 1.77323953196]\n",
    "x1 = [-0.5, -0.32, -0.14, 0.04, 0.22, 0.4]\n",
    "df = pd.DataFrame(data=[y, x1], index=(['y', 'x1'])).T\n",
    "df.head()"
   ]
  },
  {
   "cell_type": "markdown",
   "metadata": {},
   "source": [
    "**2.1)** Draw a scatter plot of the data (no lines required). Does there seem to be an apparent line of best fit? **(5 points)**"
   ]
  },
  {
   "cell_type": "code",
   "execution_count": 27,
   "metadata": {},
   "outputs": [
    {
     "data": {
      "text/plain": [
       "Text(0.5,0,'x1')"
      ]
     },
     "execution_count": 27,
     "metadata": {},
     "output_type": "execute_result"
    },
    {
     "data": {
      "image/png": "[encoded data removed]",
      "text/plain": [
       "<Figure size 432x288 with 1 Axes>"
      ]
     },
     "metadata": {},
     "output_type": "display_data"
    }
   ],
   "source": [
    "# plot: 2pts\n",
    "# discussion: 3pts\n",
    "\n",
    "plt.scatter(df.x1, df.y)\n",
    "plt.ylabel('y')\n",
    "plt.xlabel('x1')"
   ]
  },
  {
   "cell_type": "markdown",
   "metadata": {},
   "source": [
    "**Summary:**"
   ]
  },
  {
   "cell_type": "markdown",
   "metadata": {},
   "source": [
    "**2.2)** Our dependant variable *y*, in this case, does not appear to be a linear function of *x*. Create new columns in the dataframe for $x^2$, $x^3$, and $x^4$. **(5 points)**"
   ]
  },
  {
   "cell_type": "code",
   "execution_count": 10,
   "metadata": {},
   "outputs": [
    {
     "data": {
      "text/html": [
       "<div>\n",
       "<style scoped>\n",
       "    .dataframe tbody tr th:only-of-type {\n",
       "        vertical-align: middle;\n",
       "    }\n",
       "\n",
       "    .dataframe tbody tr th {\n",
       "        vertical-align: top;\n",
       "    }\n",
       "\n",
       "    .dataframe thead th {\n",
       "        text-align: right;\n",
       "    }\n",
       "</style>\n",
       "<table border=\"1\" class=\"dataframe\">\n",
       "  <thead>\n",
       "    <tr style=\"text-align: right;\">\n",
       "      <th></th>\n",
       "      <th>y</th>\n",
       "      <th>x1</th>\n",
       "      <th>x2</th>\n",
       "      <th>x3</th>\n",
       "      <th>x4</th>\n",
       "    </tr>\n",
       "  </thead>\n",
       "  <tbody>\n",
       "    <tr>\n",
       "      <th>0</th>\n",
       "      <td>2.613388</td>\n",
       "      <td>-0.50</td>\n",
       "      <td>0.2500</td>\n",
       "      <td>-0.125000</td>\n",
       "      <td>0.062500</td>\n",
       "    </tr>\n",
       "    <tr>\n",
       "      <th>1</th>\n",
       "      <td>2.170351</td>\n",
       "      <td>-0.32</td>\n",
       "      <td>0.1024</td>\n",
       "      <td>-0.032768</td>\n",
       "      <td>0.010486</td>\n",
       "    </tr>\n",
       "    <tr>\n",
       "      <th>2</th>\n",
       "      <td>0.049546</td>\n",
       "      <td>-0.14</td>\n",
       "      <td>0.0196</td>\n",
       "      <td>-0.002744</td>\n",
       "      <td>0.000384</td>\n",
       "    </tr>\n",
       "    <tr>\n",
       "      <th>3</th>\n",
       "      <td>1.158258</td>\n",
       "      <td>0.04</td>\n",
       "      <td>0.0016</td>\n",
       "      <td>0.000064</td>\n",
       "      <td>0.000003</td>\n",
       "    </tr>\n",
       "    <tr>\n",
       "      <th>4</th>\n",
       "      <td>1.397567</td>\n",
       "      <td>0.22</td>\n",
       "      <td>0.0484</td>\n",
       "      <td>0.010648</td>\n",
       "      <td>0.002343</td>\n",
       "    </tr>\n",
       "    <tr>\n",
       "      <th>5</th>\n",
       "      <td>1.773240</td>\n",
       "      <td>0.40</td>\n",
       "      <td>0.1600</td>\n",
       "      <td>0.064000</td>\n",
       "      <td>0.025600</td>\n",
       "    </tr>\n",
       "  </tbody>\n",
       "</table>\n",
       "</div>"
      ],
      "text/plain": [
       "          y    x1      x2        x3        x4\n",
       "0  2.613388 -0.50  0.2500 -0.125000  0.062500\n",
       "1  2.170351 -0.32  0.1024 -0.032768  0.010486\n",
       "2  0.049546 -0.14  0.0196 -0.002744  0.000384\n",
       "3  1.158258  0.04  0.0016  0.000064  0.000003\n",
       "4  1.397567  0.22  0.0484  0.010648  0.002343\n",
       "5  1.773240  0.40  0.1600  0.064000  0.025600"
      ]
     },
     "execution_count": 10,
     "metadata": {},
     "output_type": "execute_result"
    }
   ],
   "source": [
    "# 5pts for this... give partial if they try. 2pts off for it not being in a dataframe (in case they did list or numpy)\n",
    "\n",
    "df['x2'] = df.x1 ** 2\n",
    "df['x3'] = df.x1 ** 3\n",
    "df['x4'] = df.x1 ** 4\n",
    "df"
   ]
  },
  {
   "cell_type": "markdown",
   "metadata": {},
   "source": [
    "**2.3)** For each of our polynomials (*x1, x2, x3, x4*), fit a model to *y*. Store and report the R-squared and parameters for each polynomial. Plot the R-squared values in a bar chart to see how they change with the polynomials. Which polynomial seems to be the best fit? Describe why this might be the case. **(10 points)**"
   ]
  },
  {
   "cell_type": "code",
   "execution_count": 11,
   "metadata": {},
   "outputs": [
    {
     "data": {
      "text/html": [
       "<div>\n",
       "<style scoped>\n",
       "    .dataframe tbody tr th:only-of-type {\n",
       "        vertical-align: middle;\n",
       "    }\n",
       "\n",
       "    .dataframe tbody tr th {\n",
       "        vertical-align: top;\n",
       "    }\n",
       "\n",
       "    .dataframe thead th {\n",
       "        text-align: right;\n",
       "    }\n",
       "</style>\n",
       "<table border=\"1\" class=\"dataframe\">\n",
       "  <thead>\n",
       "    <tr style=\"text-align: right;\">\n",
       "      <th></th>\n",
       "      <th>models</th>\n",
       "      <th>intercept</th>\n",
       "      <th>slope</th>\n",
       "      <th>r_squared</th>\n",
       "    </tr>\n",
       "  </thead>\n",
       "  <tbody>\n",
       "    <tr>\n",
       "      <th>0</th>\n",
       "      <td>lm_x1</td>\n",
       "      <td>1.484119</td>\n",
       "      <td>-0.858791</td>\n",
       "      <td>0.104796</td>\n",
       "    </tr>\n",
       "    <tr>\n",
       "      <th>1</th>\n",
       "      <td>lm_x2</td>\n",
       "      <td>0.789677</td>\n",
       "      <td>7.601874</td>\n",
       "      <td>0.649677</td>\n",
       "    </tr>\n",
       "    <tr>\n",
       "      <th>2</th>\n",
       "      <td>lm_x3</td>\n",
       "      <td>1.426492</td>\n",
       "      <td>-7.032617</td>\n",
       "      <td>0.244027</td>\n",
       "    </tr>\n",
       "    <tr>\n",
       "      <th>3</th>\n",
       "      <td>lm_x4</td>\n",
       "      <td>1.071264</td>\n",
       "      <td>26.992720</td>\n",
       "      <td>0.541640</td>\n",
       "    </tr>\n",
       "  </tbody>\n",
       "</table>\n",
       "</div>"
      ],
      "text/plain": [
       "  models  intercept      slope  r_squared\n",
       "0  lm_x1   1.484119  -0.858791   0.104796\n",
       "1  lm_x2   0.789677   7.601874   0.649677\n",
       "2  lm_x3   1.426492  -7.032617   0.244027\n",
       "3  lm_x4   1.071264  26.992720   0.541640"
      ]
     },
     "execution_count": 11,
     "metadata": {},
     "output_type": "execute_result"
    }
   ],
   "source": [
    "# 4pts for storing the values (they don't have to be in a dataframe for this one)\n",
    "# 4pts for the bar chart\n",
    "# 2pts for discussion\n",
    "\n",
    "lm_x1 = smf.ols('y ~ x1',data=df).fit()\n",
    "lm_x2 = smf.ols('y ~ x2',data=df).fit()\n",
    "lm_x3 = smf.ols('y ~ x3',data=df).fit()\n",
    "lm_x4 = smf.ols('y ~ x4',data=df).fit()\n",
    "\n",
    "models = [lm_x1, lm_x2, lm_x3, lm_x4]\n",
    "model_names = ['lm_x1','lm_x2', 'lm_x3', 'lm_x4']\n",
    "intercept = []\n",
    "slope = []\n",
    "r_squared = []\n",
    "\n",
    "for mod in models:\n",
    "    intercept.append(mod.params[0])\n",
    "    slope.append(mod.params[1])\n",
    "    r_squared.append(mod.rsquared)\n",
    "    \n",
    "Params = {'models':model_names,\n",
    "          'intercept':intercept,\n",
    "          'slope':slope,\n",
    "          'r_squared':r_squared}\n",
    "Params = pd.DataFrame.from_dict(Params)\n",
    "Params = Params[['models', 'intercept', 'slope', 'r_squared']]\n",
    "Params"
   ]
  },
  {
   "cell_type": "code",
   "execution_count": 12,
   "metadata": {},
   "outputs": [
    {
     "data": {
      "image/png": "[encoded data removed]",
      "text/plain": [
       "<Figure size 432x288 with 1 Axes>"
      ]
     },
     "metadata": {},
     "output_type": "display_data"
    }
   ],
   "source": [
    "ax = Params.plot(kind='bar',y='r_squared', x='models', color='forestgreen')\n",
    "ax.set_ylabel('$R^2$')\n",
    "ax.set_title('R-squared by Model')\n",
    "plt.show()"
   ]
  },
  {
   "cell_type": "markdown",
   "metadata": {},
   "source": [
    "**2.4)** Plot a figure with 4 subfigures, one for each polynomial degree. In each subfigure:<br>\n",
    "a) Draw the original scatter plot<br>\n",
    "b) Plot the curve of the true function $f(x) = 9x^2 - x + 1$ (use np.linspace to create a line)<br>\n",
    "c) Plot your fitted curve for each degree. Observe how our model fits the data as the degree changes.<br>\n",
    "d) Having done this exercise, why might adding polynomials to our data be useful? What conclusions can we draw from fitting the four polynomials? **(10 points)**"
   ]
  },
  {
   "cell_type": "code",
   "execution_count": 13,
   "metadata": {},
   "outputs": [
    {
     "data": {
      "image/png": "[encoded data removed]",
      "text/plain": [
       "<Figure size 864x864 with 4 Axes>"
      ]
     },
     "metadata": {},
     "output_type": "display_data"
    }
   ],
   "source": [
    "# a - 2pts, b - 2pts, c - 4pts, d - 2pts\n",
    "\n",
    "fig, ax = plt.subplots(2,2, sharey=True, sharex=True, figsize=(12,12))\n",
    "\n",
    "x = np.linspace(-0.5,0.5,1000)\n",
    "y = 9 * x**2 - x + 1\n",
    "\n",
    "x_pred = np.array(df['x1'])\n",
    "y_pred1=lm_x1.predict()\n",
    "y_pred2=lm_x2.predict()\n",
    "y_pred3=lm_x3.predict()\n",
    "y_pred4=lm_x4.predict()\n",
    "\n",
    "ax[0, 0].plot(x,y,color='red', alpha=0.4)\n",
    "ax[0, 0].scatter(x=df['x1'],y=df['y'], color='red')\n",
    "ax[0, 0].plot(x_pred, y_pred1, color='b')\n",
    "ax[0, 0].set_title('$x^1$', fontsize=16)\n",
    "\n",
    "ax[0, 1].plot(x,y,color='red', alpha=0.4)\n",
    "ax[0, 1].scatter(x=df['x1'],y=df['y'], color='red')\n",
    "ax[0, 1].plot(x_pred, y_pred2, color='b')\n",
    "ax[0, 1].set_title('$x^2$', fontsize=16)\n",
    "\n",
    "ax[1, 0].plot(x,y,color='red', alpha=0.4)\n",
    "ax[1, 0].scatter(x=df['x1'],y=df['y'], color='red')\n",
    "ax[1, 0].plot(x_pred, y_pred3, color='b')\n",
    "ax[1, 0].set_title('$x^3$', fontsize=16)\n",
    "\n",
    "ax[1, 1].plot(x,y,color='red', alpha=0.4)\n",
    "ax[1, 1].scatter(x=df['x1'],y=df['y'], color='red')\n",
    "ax[1, 1].plot(x_pred, y_pred4, color='b')\n",
    "ax[1, 1].set_title('$x^4$', fontsize=16)\n",
    "\n",
    "plt.show()"
   ]
  },
  {
   "cell_type": "markdown",
   "metadata": {},
   "source": [
    "### Problem 3 - Intro to Normalization (20 points)"
   ]
  },
  {
   "cell_type": "markdown",
   "metadata": {},
   "source": [
    "This final problem is a brief exercise to explore the effects of normalization. We will be using household data from California, which was derived from the 1990 census. (https://www.kaggle.com/camnugent/california-housing-prices)"
   ]
  },
  {
   "cell_type": "code",
   "execution_count": 4,
   "metadata": {},
   "outputs": [
    {
     "data": {
      "text/html": [
       "<div>\n",
       "<style scoped>\n",
       "    .dataframe tbody tr th:only-of-type {\n",
       "        vertical-align: middle;\n",
       "    }\n",
       "\n",
       "    .dataframe tbody tr th {\n",
       "        vertical-align: top;\n",
       "    }\n",
       "\n",
       "    .dataframe thead th {\n",
       "        text-align: right;\n",
       "    }\n",
       "</style>\n",
       "<table border=\"1\" class=\"dataframe\">\n",
       "  <thead>\n",
       "    <tr style=\"text-align: right;\">\n",
       "      <th></th>\n",
       "      <th>median_income</th>\n",
       "      <th>median_house_value</th>\n",
       "    </tr>\n",
       "  </thead>\n",
       "  <tbody>\n",
       "    <tr>\n",
       "      <th>0</th>\n",
       "      <td>8.3252</td>\n",
       "      <td>452600.0</td>\n",
       "    </tr>\n",
       "    <tr>\n",
       "      <th>1</th>\n",
       "      <td>8.3014</td>\n",
       "      <td>358500.0</td>\n",
       "    </tr>\n",
       "    <tr>\n",
       "      <th>2</th>\n",
       "      <td>7.2574</td>\n",
       "      <td>352100.0</td>\n",
       "    </tr>\n",
       "    <tr>\n",
       "      <th>3</th>\n",
       "      <td>5.6431</td>\n",
       "      <td>341300.0</td>\n",
       "    </tr>\n",
       "    <tr>\n",
       "      <th>4</th>\n",
       "      <td>3.8462</td>\n",
       "      <td>342200.0</td>\n",
       "    </tr>\n",
       "  </tbody>\n",
       "</table>\n",
       "</div>"
      ],
      "text/plain": [
       "   median_income  median_house_value\n",
       "0         8.3252            452600.0\n",
       "1         8.3014            358500.0\n",
       "2         7.2574            352100.0\n",
       "3         5.6431            341300.0\n",
       "4         3.8462            342200.0"
      ]
     },
     "execution_count": 4,
     "metadata": {},
     "output_type": "execute_result"
    }
   ],
   "source": [
    "housing = pd.read_csv('../data/housing.csv')\n",
    "housing = housing[['median_income', 'median_house_value']][0:50]\n",
    "housing.head()"
   ]
  },
  {
   "cell_type": "markdown",
   "metadata": {},
   "source": [
    "**3.1)** Are there any immediately obvious trends between our two variables? Sort the values by *median_house_value*, then plot the data. Write a brief description of what you see (or, more likely, what you don't see, and why that might be the case). **(10 points)**"
   ]
  },
  {
   "cell_type": "code",
   "execution_count": 5,
   "metadata": {},
   "outputs": [
    {
     "data": {
      "text/html": [
       "<div>\n",
       "<style scoped>\n",
       "    .dataframe tbody tr th:only-of-type {\n",
       "        vertical-align: middle;\n",
       "    }\n",
       "\n",
       "    .dataframe tbody tr th {\n",
       "        vertical-align: top;\n",
       "    }\n",
       "\n",
       "    .dataframe thead th {\n",
       "        text-align: right;\n",
       "    }\n",
       "</style>\n",
       "<table border=\"1\" class=\"dataframe\">\n",
       "  <thead>\n",
       "    <tr style=\"text-align: right;\">\n",
       "      <th></th>\n",
       "      <th>median_income</th>\n",
       "      <th>median_house_value</th>\n",
       "    </tr>\n",
       "  </thead>\n",
       "  <tbody>\n",
       "    <tr>\n",
       "      <th>0</th>\n",
       "      <td>2.4597</td>\n",
       "      <td>93800.0</td>\n",
       "    </tr>\n",
       "    <tr>\n",
       "      <th>1</th>\n",
       "      <td>1.4861</td>\n",
       "      <td>97200.0</td>\n",
       "    </tr>\n",
       "    <tr>\n",
       "      <th>2</th>\n",
       "      <td>2.1806</td>\n",
       "      <td>99700.0</td>\n",
       "    </tr>\n",
       "    <tr>\n",
       "      <th>3</th>\n",
       "      <td>1.4103</td>\n",
       "      <td>103900.0</td>\n",
       "    </tr>\n",
       "    <tr>\n",
       "      <th>4</th>\n",
       "      <td>1.0972</td>\n",
       "      <td>104500.0</td>\n",
       "    </tr>\n",
       "    <tr>\n",
       "      <th>5</th>\n",
       "      <td>1.3750</td>\n",
       "      <td>104900.0</td>\n",
       "    </tr>\n",
       "    <tr>\n",
       "      <th>6</th>\n",
       "      <td>1.8080</td>\n",
       "      <td>105500.0</td>\n",
       "    </tr>\n",
       "    <tr>\n",
       "      <th>7</th>\n",
       "      <td>2.4038</td>\n",
       "      <td>107500.0</td>\n",
       "    </tr>\n",
       "    <tr>\n",
       "      <th>8</th>\n",
       "      <td>1.6424</td>\n",
       "      <td>108900.0</td>\n",
       "    </tr>\n",
       "    <tr>\n",
       "      <th>9</th>\n",
       "      <td>2.7303</td>\n",
       "      <td>109700.0</td>\n",
       "    </tr>\n",
       "    <tr>\n",
       "      <th>10</th>\n",
       "      <td>1.7969</td>\n",
       "      <td>110400.0</td>\n",
       "    </tr>\n",
       "    <tr>\n",
       "      <th>11</th>\n",
       "      <td>1.7750</td>\n",
       "      <td>112500.0</td>\n",
       "    </tr>\n",
       "    <tr>\n",
       "      <th>12</th>\n",
       "      <td>1.7250</td>\n",
       "      <td>113900.0</td>\n",
       "    </tr>\n",
       "    <tr>\n",
       "      <th>13</th>\n",
       "      <td>1.9615</td>\n",
       "      <td>115200.0</td>\n",
       "    </tr>\n",
       "    <tr>\n",
       "      <th>14</th>\n",
       "      <td>1.0250</td>\n",
       "      <td>118800.0</td>\n",
       "    </tr>\n",
       "    <tr>\n",
       "      <th>15</th>\n",
       "      <td>1.9274</td>\n",
       "      <td>122300.0</td>\n",
       "    </tr>\n",
       "    <tr>\n",
       "      <th>16</th>\n",
       "      <td>1.6875</td>\n",
       "      <td>132000.0</td>\n",
       "    </tr>\n",
       "    <tr>\n",
       "      <th>17</th>\n",
       "      <td>2.6000</td>\n",
       "      <td>132600.0</td>\n",
       "    </tr>\n",
       "    <tr>\n",
       "      <th>18</th>\n",
       "      <td>1.7348</td>\n",
       "      <td>137500.0</td>\n",
       "    </tr>\n",
       "    <tr>\n",
       "      <th>19</th>\n",
       "      <td>2.1250</td>\n",
       "      <td>140000.0</td>\n",
       "    </tr>\n",
       "    <tr>\n",
       "      <th>20</th>\n",
       "      <td>2.0260</td>\n",
       "      <td>142500.0</td>\n",
       "    </tr>\n",
       "    <tr>\n",
       "      <th>21</th>\n",
       "      <td>1.3578</td>\n",
       "      <td>147500.0</td>\n",
       "    </tr>\n",
       "    <tr>\n",
       "      <th>22</th>\n",
       "      <td>1.2852</td>\n",
       "      <td>150000.0</td>\n",
       "    </tr>\n",
       "    <tr>\n",
       "      <th>23</th>\n",
       "      <td>2.7750</td>\n",
       "      <td>152500.0</td>\n",
       "    </tr>\n",
       "    <tr>\n",
       "      <th>24</th>\n",
       "      <td>2.0978</td>\n",
       "      <td>155400.0</td>\n",
       "    </tr>\n",
       "    <tr>\n",
       "      <th>25</th>\n",
       "      <td>2.1202</td>\n",
       "      <td>155500.0</td>\n",
       "    </tr>\n",
       "    <tr>\n",
       "      <th>26</th>\n",
       "      <td>1.9911</td>\n",
       "      <td>158700.0</td>\n",
       "    </tr>\n",
       "    <tr>\n",
       "      <th>27</th>\n",
       "      <td>1.9167</td>\n",
       "      <td>159200.0</td>\n",
       "    </tr>\n",
       "    <tr>\n",
       "      <th>28</th>\n",
       "      <td>1.7135</td>\n",
       "      <td>159800.0</td>\n",
       "    </tr>\n",
       "    <tr>\n",
       "      <th>29</th>\n",
       "      <td>2.6033</td>\n",
       "      <td>162900.0</td>\n",
       "    </tr>\n",
       "    <tr>\n",
       "      <th>30</th>\n",
       "      <td>2.5898</td>\n",
       "      <td>176000.0</td>\n",
       "    </tr>\n",
       "    <tr>\n",
       "      <th>31</th>\n",
       "      <td>2.6768</td>\n",
       "      <td>182300.0</td>\n",
       "    </tr>\n",
       "    <tr>\n",
       "      <th>32</th>\n",
       "      <td>3.0125</td>\n",
       "      <td>184400.0</td>\n",
       "    </tr>\n",
       "    <tr>\n",
       "      <th>33</th>\n",
       "      <td>0.9506</td>\n",
       "      <td>187500.0</td>\n",
       "    </tr>\n",
       "    <tr>\n",
       "      <th>34</th>\n",
       "      <td>3.9643</td>\n",
       "      <td>188800.0</td>\n",
       "    </tr>\n",
       "    <tr>\n",
       "      <th>35</th>\n",
       "      <td>2.6736</td>\n",
       "      <td>191300.0</td>\n",
       "    </tr>\n",
       "    <tr>\n",
       "      <th>36</th>\n",
       "      <td>3.4800</td>\n",
       "      <td>191400.0</td>\n",
       "    </tr>\n",
       "    <tr>\n",
       "      <th>37</th>\n",
       "      <td>3.0750</td>\n",
       "      <td>213500.0</td>\n",
       "    </tr>\n",
       "    <tr>\n",
       "      <th>38</th>\n",
       "      <td>2.0804</td>\n",
       "      <td>226700.0</td>\n",
       "    </tr>\n",
       "    <tr>\n",
       "      <th>39</th>\n",
       "      <td>3.1200</td>\n",
       "      <td>241400.0</td>\n",
       "    </tr>\n",
       "    <tr>\n",
       "      <th>40</th>\n",
       "      <td>3.2705</td>\n",
       "      <td>241800.0</td>\n",
       "    </tr>\n",
       "    <tr>\n",
       "      <th>41</th>\n",
       "      <td>3.6912</td>\n",
       "      <td>261100.0</td>\n",
       "    </tr>\n",
       "    <tr>\n",
       "      <th>42</th>\n",
       "      <td>4.0368</td>\n",
       "      <td>269700.0</td>\n",
       "    </tr>\n",
       "    <tr>\n",
       "      <th>43</th>\n",
       "      <td>3.2031</td>\n",
       "      <td>281500.0</td>\n",
       "    </tr>\n",
       "    <tr>\n",
       "      <th>44</th>\n",
       "      <td>3.6591</td>\n",
       "      <td>299200.0</td>\n",
       "    </tr>\n",
       "    <tr>\n",
       "      <th>45</th>\n",
       "      <td>5.6431</td>\n",
       "      <td>341300.0</td>\n",
       "    </tr>\n",
       "    <tr>\n",
       "      <th>46</th>\n",
       "      <td>3.8462</td>\n",
       "      <td>342200.0</td>\n",
       "    </tr>\n",
       "    <tr>\n",
       "      <th>47</th>\n",
       "      <td>7.2574</td>\n",
       "      <td>352100.0</td>\n",
       "    </tr>\n",
       "    <tr>\n",
       "      <th>48</th>\n",
       "      <td>8.3014</td>\n",
       "      <td>358500.0</td>\n",
       "    </tr>\n",
       "    <tr>\n",
       "      <th>49</th>\n",
       "      <td>8.3252</td>\n",
       "      <td>452600.0</td>\n",
       "    </tr>\n",
       "  </tbody>\n",
       "</table>\n",
       "</div>"
      ],
      "text/plain": [
       "    median_income  median_house_value\n",
       "0          2.4597             93800.0\n",
       "1          1.4861             97200.0\n",
       "2          2.1806             99700.0\n",
       "3          1.4103            103900.0\n",
       "4          1.0972            104500.0\n",
       "5          1.3750            104900.0\n",
       "6          1.8080            105500.0\n",
       "7          2.4038            107500.0\n",
       "8          1.6424            108900.0\n",
       "9          2.7303            109700.0\n",
       "10         1.7969            110400.0\n",
       "11         1.7750            112500.0\n",
       "12         1.7250            113900.0\n",
       "13         1.9615            115200.0\n",
       "14         1.0250            118800.0\n",
       "15         1.9274            122300.0\n",
       "16         1.6875            132000.0\n",
       "17         2.6000            132600.0\n",
       "18         1.7348            137500.0\n",
       "19         2.1250            140000.0\n",
       "20         2.0260            142500.0\n",
       "21         1.3578            147500.0\n",
       "22         1.2852            150000.0\n",
       "23         2.7750            152500.0\n",
       "24         2.0978            155400.0\n",
       "25         2.1202            155500.0\n",
       "26         1.9911            158700.0\n",
       "27         1.9167            159200.0\n",
       "28         1.7135            159800.0\n",
       "29         2.6033            162900.0\n",
       "30         2.5898            176000.0\n",
       "31         2.6768            182300.0\n",
       "32         3.0125            184400.0\n",
       "33         0.9506            187500.0\n",
       "34         3.9643            188800.0\n",
       "35         2.6736            191300.0\n",
       "36         3.4800            191400.0\n",
       "37         3.0750            213500.0\n",
       "38         2.0804            226700.0\n",
       "39         3.1200            241400.0\n",
       "40         3.2705            241800.0\n",
       "41         3.6912            261100.0\n",
       "42         4.0368            269700.0\n",
       "43         3.2031            281500.0\n",
       "44         3.6591            299200.0\n",
       "45         5.6431            341300.0\n",
       "46         3.8462            342200.0\n",
       "47         7.2574            352100.0\n",
       "48         8.3014            358500.0\n",
       "49         8.3252            452600.0"
      ]
     },
     "execution_count": 5,
     "metadata": {},
     "output_type": "execute_result"
    }
   ],
   "source": [
    "# correctly sort values: 2pts\n",
    "# plot - 6pts (feel free to give partial)\n",
    "# interpretation: 2pts\n",
    "\n",
    "housing = housing.sort_values('median_house_value').reset_index(drop=True)\n",
    "housing"
   ]
  },
  {
   "cell_type": "code",
   "execution_count": 32,
   "metadata": {},
   "outputs": [
    {
     "data": {
      "image/png": "[encoded data removed]",
      "text/plain": [
       "<Figure size 864x360 with 2 Axes>"
      ]
     },
     "metadata": {},
     "output_type": "display_data"
    }
   ],
   "source": [
    "housing = housing.sort_values('median_house_value').reset_index(drop=True)\n",
    "\n",
    "fig, (good, mehhh_okay_i_guess) = plt.subplots(1, 2, figsize=(12, 5))\n",
    "\n",
    "good.plot(housing)\n",
    "good.set_title('This is what we\\'re looking for')\n",
    "good.set_ylabel('median house value')\n",
    "good.set_xlabel('income')\n",
    "\n",
    "mehhh_okay_i_guess.scatter(housing.median_income, housing.median_house_value)\n",
    "mehhh_okay_i_guess.set_title('I guess this works if they get that the axes are on wildly different scales')\n",
    "mehhh_okay_i_guess.set_ylabel('median house value')\n",
    "mehhh_okay_i_guess.set_xlabel('income')\n",
    "\n",
    "plt.tight_layout()\n",
    "plt.show()"
   ]
  },
  {
   "cell_type": "markdown",
   "metadata": {},
   "source": [
    "**Summary:**"
   ]
  },
  {
   "cell_type": "markdown",
   "metadata": {},
   "source": [
    "**3.2)** Orthonormalize the data so that the *mean* is 0 and the *st_dev* is 1. Write this as a python function that can be fed a dataframe and return an orthonormalized version (this should take no more than 4 lines of code). Plot an orthonormalized version of the housing data that you now have. Write a brief description of how it looks different than in *3.1* and ellaborate breifly on why and in what situations orthonormalization can be useful. **(10 points)**"
   ]
  },
  {
   "cell_type": "code",
   "execution_count": 42,
   "metadata": {},
   "outputs": [
    {
     "data": {
      "text/plain": [
       "<matplotlib.axes._subplots.AxesSubplot at 0x1c278019e8>"
      ]
     },
     "execution_count": 42,
     "metadata": {},
     "output_type": "execute_result"
    },
    {
     "data": {
      "image/png": "[encoded data removed]",
      "text/plain": [
       "<Figure size 432x288 with 1 Axes>"
      ]
     },
     "metadata": {},
     "output_type": "display_data"
    }
   ],
   "source": [
    "# they create a function: 2pts\n",
    "# data normalized correctly: 3pts\n",
    "# plot (again, it can be a scatter, as above): 3pts\n",
    "# interpritation: 2pts\n",
    "\n",
    "def ortho_norm(df):\n",
    "    for col in df.columns:\n",
    "        df[col] = (df[col] - df[col].mean()) / df[col].std()\n",
    "    return df\n",
    "\n",
    "ortho_norm(housing).plot()"
   ]
  },
  {
   "cell_type": "markdown",
   "metadata": {},
   "source": [
    "**Summary:**"
   ]
  }
 ],
 "metadata": {
  "kernelspec": {
   "display_name": "Python 3",
   "language": "python",
   "name": "python3"
  },
  "language_info": {
   "codemirror_mode": {
    "name": "ipython",
    "version": 3
   },
   "file_extension": ".py",
   "mimetype": "text/x-python",
   "name": "python",
   "nbconvert_exporter": "python",
   "pygments_lexer": "ipython3",
   "version": "3.6.6"
  }
 },
 "nbformat": 4,
 "nbformat_minor": 2
}
